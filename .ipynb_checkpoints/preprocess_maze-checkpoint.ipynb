{
 "cells": [
  {
   "cell_type": "code",
   "execution_count": 1,
   "id": "ab3d2e85",
   "metadata": {},
   "outputs": [],
   "source": [
    "import cv2\n",
    "import numpy as np\n",
    "from matplotlib import pyplot as plt\n",
    "%matplotlib inline \n"
   ]
  },
  {
   "cell_type": "code",
   "execution_count": 2,
   "id": "6cb7a823",
   "metadata": {},
   "outputs": [],
   "source": [
    "def show_image(img):\n",
    "    plt.imshow(img)\n",
    "    plt.show()"
   ]
  },
  {
   "cell_type": "code",
   "execution_count": 3,
   "id": "edaa6f85",
   "metadata": {},
   "outputs": [],
   "source": [
    "# loads image from path\n",
    "# returns numpy array\n",
    "def load_raw_image(path):\n",
    "    # Load using opencv\n",
    "    raw_image = cv2.imread(path)\n",
    "    # convert your lists into a numpy array of size (N, C, H, W)\n",
    "    return np.array(raw_image)"
   ]
  },
  {
   "cell_type": "code",
   "execution_count": 4,
   "id": "22c933bf",
   "metadata": {},
   "outputs": [],
   "source": [
    "def threshold_image(img, min_val=127, max_val = 255):\n",
    "    ret,thresh = cv2.threshold(img,min_val, max_val,cv2.THRESH_BINARY)\n",
    "    return thresh"
   ]
  },
  {
   "cell_type": "code",
   "execution_count": 5,
   "id": "cd9c299b",
   "metadata": {},
   "outputs": [],
   "source": [
    "def get_start_point(img):\n",
    "    return im.shape[0]-1, 0"
   ]
  },
  {
   "cell_type": "code",
   "execution_count": 6,
   "id": "5cb1508b",
   "metadata": {},
   "outputs": [],
   "source": [
    "def get_end_point(img):\n",
    "    return 0, im.shape[1]-1"
   ]
  },
  {
   "cell_type": "code",
   "execution_count": 7,
   "id": "93b9e209",
   "metadata": {},
   "outputs": [],
   "source": [
    "def load_image(path):\n",
    "    im = load_raw_image(\"./practice_maze.png\")\n",
    "    im = threshold_image(im)\n",
    "    return im"
   ]
  },
  {
   "cell_type": "code",
   "execution_count": 8,
   "id": "ff966bf8",
   "metadata": {},
   "outputs": [],
   "source": [
    "class MazeImage(object):\n",
    "    def __init__(self, path):\n",
    "        self.data = load_image(path)\n",
    "        self.__endpoint = get_end_point(self.data)\n",
    "        self.__startpoint = get_start_point(self.data)\n",
    "    \n",
    "    def is_at_end(self, row, col):\n",
    "        # consider making not precise point\n",
    "        if row == self.endpoint[0] and col == self.endpoint[1]:\n",
    "            return True\n",
    "        return False\n",
    "    \n",
    "    def get_start_point(self):\n",
    "        return self.__startpoint"
   ]
  },
  {
   "cell_type": "code",
   "execution_count": null,
   "id": "99e6afbe",
   "metadata": {},
   "outputs": [],
   "source": []
  }
 ],
 "metadata": {
  "kernelspec": {
   "display_name": "Python 3",
   "language": "python",
   "name": "python3"
  },
  "language_info": {
   "codemirror_mode": {
    "name": "ipython",
    "version": 3
   },
   "file_extension": ".py",
   "mimetype": "text/x-python",
   "name": "python",
   "nbconvert_exporter": "python",
   "pygments_lexer": "ipython3",
   "version": "3.9.7"
  }
 },
 "nbformat": 4,
 "nbformat_minor": 5
}
