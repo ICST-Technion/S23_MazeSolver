{
 "cells": [
  {
   "cell_type": "code",
   "execution_count": 1,
   "id": "0d465f0a",
   "metadata": {},
   "outputs": [],
   "source": [
    "import cv2\n",
    "import numpy as np\n",
    "from matplotlib import pyplot as plt\n",
    "%matplotlib inline \n",
    "from search_env import MazeSearchEnv, MazeState\n",
    "import heapdict"
   ]
  },
  {
   "cell_type": "code",
   "execution_count": 2,
   "id": "50c32802",
   "metadata": {},
   "outputs": [],
   "source": [
    "class SearchNode(object):\n",
    "  def __init__(self, cost, action, predecessor, depth=0):\n",
    "    self.cost = cost # cost until node\n",
    "    self.action = action # action led to this state\n",
    "    self.predecessor = predecessor # pred node\n",
    "    self.depth = depth #depth in tree search\n",
    "    \n",
    "  def get_actions(self):\n",
    "    actions = []\n",
    "    node = self\n",
    "    while node.predecessor:\n",
    "      actions.insert(0, node.action)\n",
    "      node = node.predecessor\n",
    "    return actions"
   ]
  },
  {
   "cell_type": "code",
   "execution_count": 3,
   "id": "1c36892e",
   "metadata": {},
   "outputs": [],
   "source": [
    "class Heuristic1(object):\n",
    "    def __init__(self):\n",
    "        self.val = 0\n",
    "    \n",
    "    def get_h(self, env, state):\n",
    "        final_state = env.get_final_state()\n",
    "        end_row, end_col = final_state.get_value()\n",
    "        cur_row, cur_col = state.get_value()\n",
    "        return (abs(end_row - cur_row) + abs(end_col - cur_col))"
   ]
  },
  {
   "cell_type": "code",
   "execution_count": 4,
   "id": "bba5ace6",
   "metadata": {},
   "outputs": [],
   "source": [
    "class WeightedAStarAgent(object):\n",
    "    \n",
    "    def __init__(self, env, weight, heuristic):\n",
    "        self.env = env\n",
    "        self.FAILURE = (-1, -1, -1)\n",
    "        self.expanded = 0\n",
    "        self.weight = weight\n",
    "        self.heuristic = heuristic\n",
    "        self.start_state = env.get_initial_state()\n",
    "        \n",
    "    def set_start_state(self, start_state = None):\n",
    "        if start_state:\n",
    "            self.start_state = start_state\n",
    "        \n",
    "\n",
    "    def run_search(self):\n",
    "        self.expanded = 0\n",
    "        start_node = SearchNode(0, None, None) # = (cost,action,predeccesor)\n",
    "        open_nodes =  heapdict.heapdict()\n",
    "        state = self.start_state\n",
    "        # open[state id] = (f value, state object, state node)\n",
    "        open_nodes[state.get_id()] = (self.__get_f_value(start_node, state), state, start_node)\n",
    "        closed_nodes = {}\n",
    "\n",
    "        while(open_nodes):\n",
    "            #expand node\n",
    "            _ , (current_f_val , current_state, current_node ) = open_nodes.popitem()\n",
    "\n",
    "            # add to closed \n",
    "            closed_nodes[current_state.get_id()] = (current_state, current_f_val)\n",
    "            \n",
    "            # check if solution\n",
    "            if self.env.is_final_state(current_state):\n",
    "                print(current_state.get_value())\n",
    "                return (current_node.get_actions(), current_node.cost, self.expanded)\n",
    "\n",
    "            self.expanded += 1 \n",
    "            \n",
    "            # create successors \n",
    "            for action in self.env.get_legal_operators(current_state):\n",
    "                next_state = self.env.get_next_state(current_state, action)\n",
    "                cost = self.env.get_cost(current_state, action)\n",
    "                next_node = SearchNode(cost + current_node.cost, action, current_node)\n",
    "                \n",
    "                #                \n",
    "                next_state_f_val = self.__get_f_value(next_node, next_state)\n",
    "                \n",
    "                # node not seen\n",
    "                if next_state.get_id() not in closed_nodes and not next_state.get_id() in open_nodes:\n",
    "                  open_nodes[next_state.get_id()] = (next_state_f_val, \n",
    "                                                     next_state,\n",
    "                                                     next_node)\n",
    "\n",
    "                # seen but not developed yet\n",
    "                elif next_state.get_id() in open_nodes:\n",
    "                    seen_f_val = open_nodes[next_state.get_id()][0]\n",
    "                    if next_state_f_val < seen_f_val:\n",
    "                        # found better path to it\n",
    "                        open_nodes[next_state.get_id()] = (next_state_f_val, \n",
    "                                                           next_state,\n",
    "                                                           next_node)\n",
    "                # in close\n",
    "                else:\n",
    "                    # get node from close\n",
    "                    old_state, old_f = closed_nodes[next_state.get_id()]\n",
    "                    if next_state_f_val < old_f:\n",
    "                      # found better path\n",
    "                      open_nodes[next_state.get_id()] = (next_state_f_val, \n",
    "                                                         next_state,\n",
    "                                                         next_node)\n",
    "                      closed_nodes.pop(next_state.get_id())\n",
    "\n",
    "\n",
    "        return self.FAILURE # what to do if cant find?\n",
    "\n",
    "\n",
    "    def __get_f_value(self, node, state):\n",
    "        return self.heuristic.get_h(self.env, state)*self.weight + node.cost*(1-self.weight)\n"
   ]
  },
  {
   "cell_type": "code",
   "execution_count": 5,
   "id": "9c4ba069",
   "metadata": {},
   "outputs": [],
   "source": [
    "maze_env = MazeSearchEnv(\"./practice_maze.png\")\n",
    "a = WeightedAStarAgent(maze_env, 1 , Heuristic1())"
   ]
  },
  {
   "cell_type": "code",
   "execution_count": 6,
   "id": "9b7a27ee",
   "metadata": {},
   "outputs": [
    {
     "name": "stdout",
     "output_type": "stream",
     "text": [
      "(1207, 641)\n"
     ]
    }
   ],
   "source": [
    "actions, cost, expanded = a.run_search()"
   ]
  },
  {
   "cell_type": "code",
   "execution_count": 7,
   "id": "0447ad62",
   "metadata": {},
   "outputs": [
    {
     "name": "stdout",
     "output_type": "stream",
     "text": [
      "cost: 8348\n",
      "expanded: 15790\n"
     ]
    }
   ],
   "source": [
    "print(f\"cost: {cost}\")\n",
    "print(f\"expanded: {expanded}\")"
   ]
  },
  {
   "cell_type": "code",
   "execution_count": 8,
   "id": "0c657883",
   "metadata": {},
   "outputs": [
    {
     "data": {
      "image/png": "[encoded data removed]",
      "text/plain": [
       "<Figure size 432x288 with 1 Axes>"
      ]
     },
     "metadata": {
      "needs_background": "light"
     },
     "output_type": "display_data"
    }
   ],
   "source": [
    "maze_env.color_maze_path_and_print(actions)"
   ]
  },
  {
   "cell_type": "code",
   "execution_count": 9,
   "id": "f6630c84",
   "metadata": {},
   "outputs": [
    {
     "data": {
      "image/png": "[encoded data removed]",
      "text/plain": [
       "<Figure size 432x288 with 1 Axes>"
      ]
     },
     "metadata": {
      "needs_background": "light"
     },
     "output_type": "display_data"
    }
   ],
   "source": [
    "maze_env.print_maze()"
   ]
  },
  {
   "cell_type": "code",
   "execution_count": null,
   "id": "1253709f",
   "metadata": {},
   "outputs": [],
   "source": []
  }
 ],
 "metadata": {
  "kernelspec": {
   "display_name": "Python 3",
   "language": "python",
   "name": "python3"
  },
  "language_info": {
   "codemirror_mode": {
    "name": "ipython",
    "version": 3
   },
   "file_extension": ".py",
   "mimetype": "text/x-python",
   "name": "python",
   "nbconvert_exporter": "python",
   "pygments_lexer": "ipython3",
   "version": "3.9.7"
  }
 },
 "nbformat": 4,
 "nbformat_minor": 5
}
