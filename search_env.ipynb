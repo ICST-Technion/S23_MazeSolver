{
 "cells": [
  {
   "cell_type": "code",
   "execution_count": 1,
   "id": "6858d9bf",
   "metadata": {},
   "outputs": [],
   "source": [
    "import cv2\n",
    "import numpy as np\n",
    "from matplotlib import pyplot as plt\n",
    "%matplotlib inline \n",
    "import preprocess_maze"
   ]
  },
  {
   "cell_type": "code",
   "execution_count": 15,
   "id": "7435549c",
   "metadata": {},
   "outputs": [],
   "source": [
    "from preprocess_maze import MazeImage, show_image"
   ]
  },
  {
   "cell_type": "code",
   "execution_count": 27,
   "id": "4e5f6d7c",
   "metadata": {},
   "outputs": [],
   "source": [
    "\"\"\"\n",
    "includes:\n",
    "    - States\n",
    "    - operators\n",
    "    - end state\n",
    "    - initial state\n",
    "\"\"\" \n",
    "\n",
    "\n",
    "class MazeState(object):\n",
    "    def __init__(self, row, col):\n",
    "        self.row = row\n",
    "        self.col = col\n",
    "    \n",
    "    def get_value(self):\n",
    "        return self.row, self.col\n",
    "    \n",
    "    def __eq__(self, other):\n",
    "        return self.row == other.row and self.col == other.col\n",
    "\n",
    "\n",
    "class MazeSearchEnv(object):\n",
    "    \n",
    "    # data object must contain\n",
    "    # is_at_end\n",
    "    # get_start_point\n",
    "    # get_data\n",
    "    def __init__(self, path_to_maze):\n",
    "        self.actions = {\"UP\": (-1, 0), \"DOWN\": (1, 0), \"LEFT\": (0, -1), \"RIGHT\": (0, 1)}\n",
    "        self.__data_obj = MazeImage(path_to_maze)\n",
    "        end_row, end_col = self.__data_obj.get_end_point()\n",
    "        self.__final_state = MazeState(end_row, end_col)\n",
    "        \n",
    "    def is_final_state(self, state):\n",
    "        return state == self.__final_state\n",
    "    \n",
    "    def get_initial_state(self):\n",
    "        start_row, start_col = self.__data_obj.get_start_point()\n",
    "        return MazeState(start_row, start_col)\n",
    "    \n",
    "    def is_legal_state(self, row, col):\n",
    "        if row < 0 or row >= self.__data_obj.get_max_row():\n",
    "            return False\n",
    "        \n",
    "        if col < 0 or col >= self.__data_obj.get_max_col():\n",
    "            return False\n",
    "        \n",
    "        if not self.__data_obj.is_on_maze(row, col):\n",
    "            return False\n",
    "        \n",
    "        return True\n",
    "    \n",
    "    def get_legal_operators(self, state):\n",
    "        legal_actions = []\n",
    "        curr_row, curr_col = state.get_value()\n",
    "        for action_name, action in self.actions.items():\n",
    "            new_row = curr_row + action[0]\n",
    "            new_col = curr_col + action[1]\n",
    "            if self.is_legal_state(new_row, new_col):\n",
    "                legal_actions.append(action_name)\n",
    "        return legal_actions\n",
    "    \n",
    "    def get_next_state(self, state, action):\n",
    "\n",
    "        curr_row, curr_col = state.get_value()\n",
    "        new_row = curr_row + self.actions[action][0]\n",
    "        new_col = curr_col + self.actions[action][1]\n",
    "        if not self.is_legal_state(new_row, new_col):\n",
    "            raise RuntimeError(\"Illegal next state\")\n",
    "        return MazeState(new_row, new_col)\n",
    "    \n",
    "    def print_maze(self):\n",
    "        show_image(self.__data_obj.get_data())"
   ]
  },
  {
   "cell_type": "code",
   "execution_count": null,
   "id": "f5d2b1c6",
   "metadata": {},
   "outputs": [],
   "source": []
  }
 ],
 "metadata": {
  "kernelspec": {
   "display_name": "Python 3",
   "language": "python",
   "name": "python3"
  },
  "language_info": {
   "codemirror_mode": {
    "name": "ipython",
    "version": 3
   },
   "file_extension": ".py",
   "mimetype": "text/x-python",
   "name": "python",
   "nbconvert_exporter": "python",
   "pygments_lexer": "ipython3",
   "version": "3.9.7"
  }
 },
 "nbformat": 4,
 "nbformat_minor": 5
}
