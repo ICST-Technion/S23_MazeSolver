{
 "cells": [
  {
   "cell_type": "code",
   "execution_count": 14,
   "id": "ab3d2e85",
   "metadata": {},
   "outputs": [],
   "source": [
    "import cv2\n",
    "import numpy as np\n",
    "from matplotlib import pyplot as plt\n",
    "%matplotlib inline \n"
   ]
  },
  {
   "cell_type": "code",
   "execution_count": 15,
   "id": "6060bd72",
   "metadata": {},
   "outputs": [],
   "source": [
    "MAZE_COLOR = 255\n",
    "BACKGROUND_COLOR = 0"
   ]
  },
  {
   "cell_type": "code",
   "execution_count": 72,
   "id": "6cb7a823",
   "metadata": {},
   "outputs": [],
   "source": [
    "def show_image(img):\n",
    "    plt.imshow(img, cmap='gray')\n",
    "    plt.show()"
   ]
  },
  {
   "cell_type": "code",
   "execution_count": 17,
   "id": "edaa6f85",
   "metadata": {},
   "outputs": [],
   "source": [
    "# loads image from path\n",
    "# returns numpy array\n",
    "def load_raw_image(path):\n",
    "    # Load using opencv\n",
    "    raw_image = cv2.imread(path, cv2.IMREAD_GRAYSCALE)\n",
    "    # convert your lists into a numpy array of size (N, C, H, W)\n",
    "    return np.array(raw_image)"
   ]
  },
  {
   "cell_type": "code",
   "execution_count": 34,
   "id": "22c933bf",
   "metadata": {},
   "outputs": [],
   "source": [
    "def threshold_image(img, min_val=127, max_val = 255):\n",
    "    ret,thresh = cv2.threshold(img,min_val, max_val,cv2.THRESH_BINARY_INV)\n",
    "    return thresh"
   ]
  },
  {
   "cell_type": "code",
   "execution_count": 44,
   "id": "cd9c299b",
   "metadata": {},
   "outputs": [],
   "source": [
    "def get_start_point(img):\n",
    "    positions = np.nonzero(img)\n",
    "    start_idx = np.argmin(positions[0])\n",
    "\n",
    "    return positions[0][start_idx], positions[1][start_idx]"
   ]
  },
  {
   "cell_type": "code",
   "execution_count": 71,
   "id": "5cb1508b",
   "metadata": {},
   "outputs": [],
   "source": [
    "def get_end_point(img):\n",
    "    positions = np.nonzero(img)\n",
    "    start_idx = np.argmax(positions[0])\n",
    "\n",
    "    return positions[0][start_idx], positions[1][start_idx]"
   ]
  },
  {
   "cell_type": "code",
   "execution_count": 46,
   "id": "93b9e209",
   "metadata": {},
   "outputs": [],
   "source": [
    "def load_image(path):\n",
    "    im = load_raw_image(\"./practice_maze.png\")\n",
    "    im = threshold_image(im)\n",
    "    return im"
   ]
  },
  {
   "cell_type": "code",
   "execution_count": 47,
   "id": "ff966bf8",
   "metadata": {},
   "outputs": [],
   "source": [
    "class MazeImage(object):\n",
    "    def __init__(self, path):\n",
    "        self.data = load_image(path)\n",
    "        self.__endpoint = get_end_point(self.data)\n",
    "        self.__startpoint = get_start_point(self.data)\n",
    "    \n",
    "    def is_on_maze(self, row, col):\n",
    "        return self.data[row][col] == MAZE_COLOR\n",
    "    \n",
    "    def get_max_row(self):\n",
    "        return self.data.shape[0]\n",
    "    \n",
    "    def get_max_col(self):\n",
    "        return self.data.shape[1]\n",
    "    \n",
    "    def get_data(self):\n",
    "        return self.data\n",
    "    \n",
    "    def get_end_point(self):\n",
    "        # consider making not precise point\n",
    "        return self.__endpoint\n",
    "    \n",
    "    def get_start_point(self):\n",
    "        return self.__startpoint"
   ]
  },
  {
   "cell_type": "code",
   "execution_count": null,
   "id": "397558e6",
   "metadata": {},
   "outputs": [],
   "source": []
  }
 ],
 "metadata": {
  "kernelspec": {
   "display_name": "Python 3",
   "language": "python",
   "name": "python3"
  },
  "language_info": {
   "codemirror_mode": {
    "name": "ipython",
    "version": 3
   },
   "file_extension": ".py",
   "mimetype": "text/x-python",
   "name": "python",
   "nbconvert_exporter": "python",
   "pygments_lexer": "ipython3",
   "version": "3.9.7"
  }
 },
 "nbformat": 4,
 "nbformat_minor": 5
}
